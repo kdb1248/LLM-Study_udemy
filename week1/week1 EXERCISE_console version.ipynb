{
 "cells": [
  {
   "cell_type": "markdown",
   "id": "fe12c203-e6a6-452c-a655-afb8a03a4ff5",
   "metadata": {},
   "source": [
    "# End of week 1 exercise\n",
    "\n",
    "To demonstrate your familiarity with OpenAI API, and also Ollama, build a tool that takes a technical question,  \n",
    "and responds with an explanation. This is a tool that you will be able to use yourself during the course!"
   ]
  },
  {
   "cell_type": "code",
   "execution_count": 3,
   "id": "c1070317-3ed9-4659-abe3-828943230e03",
   "metadata": {},
   "outputs": [],
   "source": [
    "# imports\n",
    "import os\n",
    "import requests\n",
    "import json\n",
    "from typing import List\n",
    "from dotenv import load_dotenv\n",
    "from bs4 import BeautifulSoup\n",
    "from IPython.display import Markdown, display, update_display\n",
    "from openai import OpenAI"
   ]
  },
  {
   "cell_type": "code",
   "execution_count": 4,
   "id": "4a456906-915a-4bfd-bb9d-57e505c5093f",
   "metadata": {},
   "outputs": [],
   "source": [
    "# constants\n",
    "\n",
    "MODEL_GPT = 'gpt-4o-mini'\n",
    "MODEL_LLAMA = 'llama3.2'"
   ]
  },
  {
   "cell_type": "code",
   "execution_count": 5,
   "id": "a8d7923c-5f28-4c30-8556-342d7c8497c1",
   "metadata": {},
   "outputs": [
    {
     "name": "stdout",
     "output_type": "stream",
     "text": [
      "API key found and looks good so far!\n"
     ]
    }
   ],
   "source": [
    "# set up environment\n",
    "# Load environment variables in a file called .env\n",
    "\n",
    "load_dotenv(override=True)      # env 파일로드\n",
    "api_key = os.getenv('OPENAI_API_KEY')\n",
    "\n",
    "# Check the key\n",
    "\n",
    "if not api_key:\n",
    "    print(\"No API key was found - please head over to the troubleshooting notebook in this folder to identify & fix!\")\n",
    "elif not api_key.startswith(\"sk-proj-\"):\n",
    "    print(\"An API key was found, but it doesn't start sk-proj-; please check you're using the right key - see troubleshooting notebook\")\n",
    "elif api_key.strip() != api_key:\n",
    "    print(\"An API key was found, but it looks like it might have space or tab characters at the start or end - please remove them - see troubleshooting notebook\")\n",
    "else:\n",
    "    print(\"API key found and looks good so far!\")\n"
   ]
  },
  {
   "cell_type": "code",
   "execution_count": 6,
   "id": "80a4bc14-9f04-4546-a66d-cc3d0eb28873",
   "metadata": {},
   "outputs": [],
   "source": [
    "system_prompt = \"you are a assistant which specializes in coding. \\\n",
    "You have to explain code to south korea people.\\ try to explain code as korean and easy word \\\n",
    "to who are not major in computer science. Respond in markdown.\""
   ]
  },
  {
   "cell_type": "code",
   "execution_count": 7,
   "id": "2ca3dbee-fc9b-4a3a-834c-fb7cad011d05",
   "metadata": {},
   "outputs": [],
   "source": [
    "# 코드 리팩토링 \n",
    "\n",
    "def get_client(model: str) -> OpenAI:\n",
    "    if model == MODEL_GPT:\n",
    "        return OpenAI()\n",
    "    # ollama(OpenAI 호환) 클라이언트\n",
    "    return OpenAI(base_url='http://localhost:11434/v1', api_key='ollama')"
   ]
  },
  {
   "cell_type": "code",
   "execution_count": 8,
   "id": "82b7563e-2934-4164-bbfc-3dfb3e60c44e",
   "metadata": {},
   "outputs": [],
   "source": [
    "def ai_answer(system_prompt: str, user_prompt: str, model: str):\n",
    "    client = get_client(model)\n",
    "    stream = client.chat.completions.create(\n",
    "        model=model,\n",
    "        messages=[{\"role\":\"system\",\"content\":system_prompt},\n",
    "                  {\"role\":\"user\",\"content\":user_prompt}],\n",
    "        stream=True\n",
    "    )\n",
    "    response = \"\"\n",
    "    display_handle = display(Markdown(\"\"), display_id=True)\n",
    "    for chunk in stream:\n",
    "        delta = getattr(chunk.choices[0].delta, \"content\", None) or \"\"\n",
    "        response += delta\n",
    "        # Markdown은 굳이 제거할 필요 없음 (코드블록 표시에 필요)\n",
    "        update_display(Markdown(response), display_id=display_handle.display_id)"
   ]
  },
  {
   "cell_type": "code",
   "execution_count": 9,
   "id": "0da350c8-d52b-4bda-b11a-6d00e78d4102",
   "metadata": {},
   "outputs": [
    {
     "name": "stdin",
     "output_type": "stream",
     "text": [
      "프롬프트를 입력하세요:  Please explain what this code does and why: yield from {book.get(\"author\") for book in books if book.get(\"author\")}\n"
     ]
    }
   ],
   "source": [
    "user_prompt = input(\"프롬프트를 입력하세요: \")"
   ]
  },
  {
   "cell_type": "code",
   "execution_count": 10,
   "id": "60ce7000-a4a5-4cce-a261-e75ef45063b4",
   "metadata": {},
   "outputs": [
    {
     "data": {
      "text/markdown": [
       "안녕하세요! 이 코드에 대해 쉽게 설명해드릴게요. \n",
       "\n",
       "코드는 파이썬에서 사용되는 것으로, 주로 데이터를 처리할 때 많이 사용됩니다. 이 코드를 여러 부분으로 나누어 설명해볼게요.\n",
       "\n",
       "### 코드 설명\n",
       "\n",
       "1. **리스트 컴프리헨션**:\n",
       "   ```python\n",
       "   {book.get(\"author\") for book in books if book.get(\"author\")}\n",
       "   ```\n",
       "   - 이 부분은 **집합(set)** 컴프리헨션입니다. `books`라는 리스트에 있는 각각의 `book`에 대해, 각 책의 **저자(author)**를 가져옵니다.\n",
       "   - `book.get(\"author\")`는 `book`에서 저자를 찾는 방법입니다. 저자가 없다면 `None`을 반환하는데, 이런 경우는 넘어갑니다.\n",
       "   - `if book.get(\"author\")`는 저자가 있는 경우에만 해당 저자를 포함합니다.\n",
       "   - 그래서 이 부분은 저자가 있는 책들로부터 저자들의 집합을 만들어줍니다.\n",
       "\n",
       "2. **yield from**:\n",
       "   ```python\n",
       "   yield from ...\n",
       "   ```\n",
       "   - `yield from`은 **제너레이터(generator)**를 만들 때 사용되는 구문입니다. 이렇게 하면 저자들을 하나씩 반환할 수 있습니다.\n",
       "   - 즉, 저자들의 리스트를 생성하고, 이를 호출한 쪽에서 하나씩 사용할 수 있도록 합니다.\n",
       "\n",
       "### 전체적 의미\n",
       "\n",
       "결국 이 코드는 `books` 리스트에 있는 책들의 저자들 중에서, 저자가 있는 경우에 한해 저자들의 집합을 생성하고, 그 집합의 저자들을 하나씩 반환하는 역할을 합니다.\n",
       "\n",
       "#### 요약\n",
       "- 주어진 `books`라는 리스트에서 저자가 있는 책들의 저자를 모아서,\n",
       "- 그 저자들을 하나씩 제공해주는 기능을 하는 코드입니다.\n",
       "\n",
       "이해가 되셨나요? 추가로 궁금한 점이 있으면 언제든지 물어보세요! 😊"
      ],
      "text/plain": [
       "<IPython.core.display.Markdown object>"
      ]
     },
     "metadata": {},
     "output_type": "display_data"
    }
   ],
   "source": [
    "ai_answer(system_prompt, user_prompt, MODEL_GPT)"
   ]
  },
  {
   "cell_type": "code",
   "execution_count": 11,
   "id": "e45e7be3-3930-49b4-9191-6119ebfd0582",
   "metadata": {},
   "outputs": [
    {
     "data": {
      "text/markdown": [
       "# Explanation of Code: \n",
       "\n",
       "`.yield from {...}``\n",
       "\n",
       "`.get()` is a method used to access the value of an item inside `Hashset` or dictionary.\n",
       "\n",
       "### what does `yield from {...}` do?\n",
       "\n",
       "`yield from {...}` is used when you want to call another `iterator` like function and put all values in a new one . It's called to **lazy evaluation** meaning that `yield()` will run until the end, then return.\n",
       "\n",
       "`.get(\"author\")` will get the book author\n",
       "\n",
       "**so what the whole expression does?**\n",
       "\n",
       "The entire expression is used when you have many books with `author` and don't want it to execute on each page. This saves  performance. Let's assume we are doing query in a library, like which ones were written by Lee Do Hyun \n",
       "\n",
       "So we call `getAuthor()` from each book and print the author but only for those where writer is `Lee Do Hyun`."
      ],
      "text/plain": [
       "<IPython.core.display.Markdown object>"
      ]
     },
     "metadata": {},
     "output_type": "display_data"
    }
   ],
   "source": [
    "ai_answer(system_prompt, user_prompt, MODEL_LLAMA)"
   ]
  },
  {
   "cell_type": "code",
   "execution_count": null,
   "id": "1b277d7c-a611-4cfe-90d4-12039c66dcc1",
   "metadata": {},
   "outputs": [],
   "source": []
  }
 ],
 "metadata": {
  "kernelspec": {
   "display_name": "Python 3 (ipykernel)",
   "language": "python",
   "name": "python3"
  },
  "language_info": {
   "codemirror_mode": {
    "name": "ipython",
    "version": 3
   },
   "file_extension": ".py",
   "mimetype": "text/x-python",
   "name": "python",
   "nbconvert_exporter": "python",
   "pygments_lexer": "ipython3",
   "version": "3.11.13"
  }
 },
 "nbformat": 4,
 "nbformat_minor": 5
}
